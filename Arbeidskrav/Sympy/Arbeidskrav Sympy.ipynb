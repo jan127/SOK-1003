{
 "cells": [
  {
   "cell_type": "code",
   "execution_count": 79,
   "id": "095d533a-3730-4ad4-afee-edc8cf6ed379",
   "metadata": {},
   "outputs": [],
   "source": [
    "#Laster inn nødvendige pakker\n",
    "import sympy as sp\n",
    "import sympy.solvers as solve\n",
    "from sympy.simplify.simplify import nthroot"
   ]
  },
  {
   "cell_type": "markdown",
   "id": "fe964543-62c7-4a1e-ac00-e19c1fe0ed63",
   "metadata": {},
   "source": [
    "Læresteg 15: Likningsett"
   ]
  },
  {
   "cell_type": "code",
   "execution_count": 9,
   "id": "5706e9d8-7dc2-4fa4-a7bc-dfd586c55095",
   "metadata": {},
   "outputs": [
    {
     "data": {
      "text/plain": [
       "{x: -1, y: 2}"
      ]
     },
     "execution_count": 9,
     "metadata": {},
     "output_type": "execute_result"
    }
   ],
   "source": [
    "#Oppgave 1a\n",
    "\n",
    "x, y  = sp.symbols(\"x y\") #setter x og y som symboler\n",
    "unknown = [x, y] #lager en liste med symbolene(ukjente)\n",
    "\n",
    "eq_15_1a = [\n",
    "    sp.Eq(2*x+4*y,6),\n",
    "    sp.Eq(-2*x+y, 4)\n",
    "] #likningsett\n",
    "sp.solve(eq_15_1a, unknown) #løser likningsettet"
   ]
  },
  {
   "cell_type": "code",
   "execution_count": 12,
   "id": "3c348590-0c9c-49d8-84e7-df77b7b4c734",
   "metadata": {},
   "outputs": [
    {
     "data": {
      "text/plain": [
       "[(-1, -1), (2, 5)]"
      ]
     },
     "execution_count": 12,
     "metadata": {},
     "output_type": "execute_result"
    }
   ],
   "source": [
    "#Oppgave 1b\n",
    "\n",
    "#lager ikke liste med ukjente da vi laget \n",
    "#denne i oppg 1a.\n",
    "eq_15_1b = [ \n",
    "    sp.Eq(2*x-y,-1),\n",
    "    sp.Eq(x**2+x-y, 1)\n",
    "] #likningsett\n",
    "sp.solve(eq_15_1b, unknown) #løser likningsettet"
   ]
  },
  {
   "cell_type": "code",
   "execution_count": 14,
   "id": "818819c5-7f43-4528-a5a4-27026dbe8352",
   "metadata": {},
   "outputs": [
    {
     "data": {
      "text/plain": [
       "{x: 4, y: 0}"
      ]
     },
     "execution_count": 14,
     "metadata": {},
     "output_type": "execute_result"
    }
   ],
   "source": [
    "#Oppgave 2a\n",
    "\n",
    "#lager ikke liste med ukjente da vi laget \n",
    "#denne i oppg 1a.\n",
    "eq_15_2a = [\n",
    "    sp.Eq(3*x-12, -6*y),\n",
    "    sp.Eq(4*x-8*y, 16)\n",
    "] #likningsett\n",
    "sp.solve(eq_15_2a, unknown) #løser likningsettet"
   ]
  },
  {
   "cell_type": "code",
   "execution_count": 15,
   "id": "fc124859-282c-4cb7-bb88-3ebba60ea826",
   "metadata": {},
   "outputs": [
    {
     "data": {
      "text/plain": [
       "[(-15/2, 31/4), (2, 3)]"
      ]
     },
     "execution_count": 15,
     "metadata": {},
     "output_type": "execute_result"
    }
   ],
   "source": [
    "#Oppgave 2b\n",
    "\n",
    "#lager ikke liste med ukjente da vi laget \n",
    "#denne i oppg 1a.\n",
    "eq_15_2b = [\n",
    "    sp.Eq(x**2+4*x-3, 3*y),\n",
    "    sp.Eq(2*y, 8-x)\n",
    "] #likningsett\n",
    "sp.solve(eq_15_2b, unknown) #løser likningsettet"
   ]
  },
  {
   "cell_type": "markdown",
   "id": "f45d4284-46e6-4669-b287-8d6edb057575",
   "metadata": {},
   "source": [
    "Læresteg 16: Likningsett"
   ]
  },
  {
   "cell_type": "code",
   "execution_count": 16,
   "id": "09e2e4f6-d6af-473e-b0c0-05d795450840",
   "metadata": {},
   "outputs": [
    {
     "data": {
      "text/plain": [
       "{x: 2, y: 2}"
      ]
     },
     "execution_count": 16,
     "metadata": {},
     "output_type": "execute_result"
    }
   ],
   "source": [
    "#Oppgave 1a\n",
    "\n",
    "#lager ikke liste med ukjente da vi laget denne i oppg 1a \n",
    "#fra læresteg 15.\n",
    "eq_16_1a = [\n",
    "    sp.Eq(4*x+2*y, 12),\n",
    "    sp.Eq(6*x-2*y, 8)\n",
    "] #likningsett\n",
    "sp.solve(eq_16_1a, unknown) #løser likningsettet"
   ]
  },
  {
   "cell_type": "code",
   "execution_count": 17,
   "id": "1ceff525-7456-4e6b-8971-5eb7b29f5902",
   "metadata": {},
   "outputs": [
    {
     "data": {
      "text/plain": [
       "[(0, -5), (12, 1)]"
      ]
     },
     "execution_count": 17,
     "metadata": {},
     "output_type": "execute_result"
    }
   ],
   "source": [
    "#Oppgave 1b\n",
    "\n",
    "#lager ikke liste med ukjente da vi laget denne i oppg 1a \n",
    "#fra læresteg 15.\n",
    "eq_16_1b = [\n",
    "    sp.Eq(2*x+y**2, 25),\n",
    "    sp.Eq(x-2*y, 10)\n",
    "] #likningsett\n",
    "sp.solve(eq_16_1b, unknown) #løser likningsettet"
   ]
  },
  {
   "cell_type": "code",
   "execution_count": 18,
   "id": "9497f965-b013-4b92-9801-2d161bbbdef4",
   "metadata": {},
   "outputs": [
    {
     "data": {
      "text/plain": [
       "{x: 4, y: 2}"
      ]
     },
     "execution_count": 18,
     "metadata": {},
     "output_type": "execute_result"
    }
   ],
   "source": [
    "#Oppgave 2a\n",
    "\n",
    "#lager ikke liste med ukjente da vi laget denne i oppg 1a\n",
    "#fra læresteg 15.\n",
    "eq_16_2a = [\n",
    "    sp.Eq(4*x-4*y, 8),\n",
    "    sp.Eq(9*x-5*y, 26)\n",
    "] #likningsett\n",
    "sp.solve(eq_16_2a, unknown) #løser likningsettet"
   ]
  },
  {
   "cell_type": "code",
   "execution_count": 19,
   "id": "f27743db-af90-43fc-9223-5728ab8a67da",
   "metadata": {},
   "outputs": [
    {
     "data": {
      "text/plain": [
       "[(-9, -2*sqrt(3)), (-9, 2*sqrt(3)), (7, -2), (7, 2)]"
      ]
     },
     "execution_count": 19,
     "metadata": {},
     "output_type": "execute_result"
    }
   ],
   "source": [
    "#Oppgave 2b\n",
    "\n",
    "#lager ikke liste med ukjente da vi laget denne i oppg 1a\n",
    "#fra læresteg 15.\n",
    "eq_16_2b = [\n",
    "    sp.Eq(x+2*y**2, 15),\n",
    "    sp.Eq(x**2-4*y**2, 33)\n",
    "] #likningsett\n",
    "sp.solve(eq_16_2b, unknown) #løser likningsettet"
   ]
  },
  {
   "cell_type": "markdown",
   "id": "514c72a7-47a9-4880-b04a-521003fd8739",
   "metadata": {},
   "source": [
    "Læresteg 17: Likningsett"
   ]
  },
  {
   "cell_type": "code",
   "execution_count": 24,
   "id": "0cd2ef27-d5e3-4a06-aeaa-5474e29849d4",
   "metadata": {},
   "outputs": [
    {
     "data": {
      "text/plain": [
       "[(0, -4), (0, 4), (15, -1), (15, 1)]"
      ]
     },
     "execution_count": 24,
     "metadata": {},
     "output_type": "execute_result"
    }
   ],
   "source": [
    "#Oppgave 1a\n",
    "\n",
    "#lager ikke liste med ukjente da vi laget denne i oppg 1a\n",
    "#fra læresteg 15.\n",
    "eq_17_1a = [\n",
    "    sp.Eq(x*y**2-x, 0),\n",
    "    sp.Eq(x+y**2, 16)\n",
    "] #likningsett\n",
    "sp.solve(eq_17_1a, unknown) #løser likningsettet"
   ]
  },
  {
   "cell_type": "code",
   "execution_count": 23,
   "id": "14b3251b-bdbd-426b-9772-f46ac8b8a57e",
   "metadata": {},
   "outputs": [
    {
     "data": {
      "text/plain": [
       "[(-10, 0), (-6, -8), (-6, 8), (6, -8), (6, 8), (10, 0)]"
      ]
     },
     "execution_count": 23,
     "metadata": {},
     "output_type": "execute_result"
    }
   ],
   "source": [
    "#Oppgave 1b\n",
    "\n",
    "#lager ikke liste med ukjente da vi laget denne i oppg 1a\n",
    "#fra læresteg 15.\n",
    "eq_17_1b = [\n",
    "    sp.Eq(x**2+y**2, 100),\n",
    "    sp.Eq(x**2*y-36*y, 0)\n",
    "] #likningsett\n",
    "sp.solve(eq_17_1b, unknown) #løser likningsettet"
   ]
  },
  {
   "cell_type": "code",
   "execution_count": 26,
   "id": "d84d19ae-6b0b-4ee5-9349-d37d91a86bf9",
   "metadata": {},
   "outputs": [
    {
     "data": {
      "text/plain": [
       "[(-3, -7), (-3, 7), (0, -sqrt(58)), (0, sqrt(58)), (3, -7), (3, 7)]"
      ]
     },
     "execution_count": 26,
     "metadata": {},
     "output_type": "execute_result"
    }
   ],
   "source": [
    "#Oppgave 2a\n",
    "\n",
    "#lager ikke liste med ukjente da vi laget denne i oppg 1a\n",
    "#fra læresteg 15.\n",
    "eq_17_2a = [\n",
    "    sp.Eq(x*y**2-49*x, 0),\n",
    "    sp.Eq(x**2+y**2, 58)\n",
    "] #likningsett\n",
    "sp.solve(eq_17_2a, unknown) #løser likningsettet"
   ]
  },
  {
   "cell_type": "code",
   "execution_count": 27,
   "id": "450333b7-394a-4d08-966c-b1725f60d412",
   "metadata": {},
   "outputs": [
    {
     "data": {
      "text/plain": [
       "[(-1.11803398874989, 0.0),\n",
       " (-0.500000000000000, -1.00000000000000),\n",
       " (-0.500000000000000, 1.00000000000000),\n",
       " (1.11803398874989, 0.0)]"
      ]
     },
     "execution_count": 27,
     "metadata": {},
     "output_type": "execute_result"
    }
   ],
   "source": [
    "#Oppgave 2b\n",
    "\n",
    "#lager ikke liste med ukjente da vi laget denne i oppg 1a\n",
    "#fra læresteg 15.\n",
    "eq_17_2b = [\n",
    "    sp.Eq(x**2+y**2, 5/4),\n",
    "    sp.Eq(2*x*y+y, 0)\n",
    "] #likningsett\n",
    "sp.solve(eq_17_2b, unknown) #løser likningsettet"
   ]
  },
  {
   "cell_type": "markdown",
   "id": "e8cd86d0-fef1-49e5-9729-d8b15ad558fb",
   "metadata": {},
   "source": [
    "Læresteg 19: Derivasjon"
   ]
  },
  {
   "cell_type": "code",
   "execution_count": 28,
   "id": "e4c8206e-7376-4e09-ace1-3aa345781333",
   "metadata": {},
   "outputs": [
    {
     "data": {
      "text/latex": [
       "$\\displaystyle 5 x^{4}$"
      ],
      "text/plain": [
       "5*x**4"
      ]
     },
     "execution_count": 28,
     "metadata": {},
     "output_type": "execute_result"
    }
   ],
   "source": [
    "#Oppgave 1a\n",
    "sp.diff(x**5, x) #løser med hensyn på x"
   ]
  },
  {
   "cell_type": "code",
   "execution_count": 29,
   "id": "4b86771f-4328-45dd-a373-6fba3889328a",
   "metadata": {},
   "outputs": [
    {
     "data": {
      "text/latex": [
       "$\\displaystyle 1$"
      ],
      "text/plain": [
       "1"
      ]
     },
     "execution_count": 29,
     "metadata": {},
     "output_type": "execute_result"
    }
   ],
   "source": [
    "#Oppgave 1b\n",
    "sp.diff(x+12, x) #løser med hensyn på x"
   ]
  },
  {
   "cell_type": "code",
   "execution_count": 30,
   "id": "91ed6d29-00a9-4e18-a700-9f15b0a3895b",
   "metadata": {},
   "outputs": [
    {
     "data": {
      "text/latex": [
       "$\\displaystyle 3 x^{2} + 8 x$"
      ],
      "text/plain": [
       "3*x**2 + 8*x"
      ]
     },
     "execution_count": 30,
     "metadata": {},
     "output_type": "execute_result"
    }
   ],
   "source": [
    "#Oppgave 1c\n",
    "sp.diff(x**3+4*x**2, x) #løser med hensyn på x"
   ]
  },
  {
   "cell_type": "code",
   "execution_count": 33,
   "id": "51fb7e47-ae9a-44cf-bf63-5e39fb309dfd",
   "metadata": {},
   "outputs": [
    {
     "data": {
      "text/latex": [
       "$\\displaystyle 6 x^{2}$"
      ],
      "text/plain": [
       "6*x**2"
      ]
     },
     "execution_count": 33,
     "metadata": {},
     "output_type": "execute_result"
    }
   ],
   "source": [
    "#Oppgave 1d\n",
    "sp.diff(2*x**3+sp.sqrt(36), x) #løser med hensyn på x"
   ]
  },
  {
   "cell_type": "code",
   "execution_count": 34,
   "id": "b4fbc777-7289-4c9e-8d64-5beae244810c",
   "metadata": {},
   "outputs": [
    {
     "data": {
      "text/latex": [
       "$\\displaystyle \\frac{1}{2 \\sqrt{x}}$"
      ],
      "text/plain": [
       "1/(2*sqrt(x))"
      ]
     },
     "execution_count": 34,
     "metadata": {},
     "output_type": "execute_result"
    }
   ],
   "source": [
    "#Oppgave 1e\n",
    "sp.diff(sp.sqrt(x)+5**2, x) #løser med hensyn på x"
   ]
  },
  {
   "cell_type": "code",
   "execution_count": 35,
   "id": "7f6bd26e-5436-43e0-a008-e64c4a3c172d",
   "metadata": {},
   "outputs": [
    {
     "data": {
      "text/latex": [
       "$\\displaystyle 3 x^{2} - \\frac{1}{x^{2}}$"
      ],
      "text/plain": [
       "3*x**2 - 1/x**2"
      ]
     },
     "execution_count": 35,
     "metadata": {},
     "output_type": "execute_result"
    }
   ],
   "source": [
    "#Oppgave 1f\n",
    "sp.diff(x**3+1/x, x) #løser med hensyn på x"
   ]
  },
  {
   "cell_type": "code",
   "execution_count": 36,
   "id": "f3ba969a-a7d1-40e6-bbb5-a7a46657672b",
   "metadata": {},
   "outputs": [
    {
     "data": {
      "text/latex": [
       "$\\displaystyle 3 x^{2} - 2 x + 0.25$"
      ],
      "text/plain": [
       "3*x**2 - 2*x + 0.25"
      ]
     },
     "execution_count": 36,
     "metadata": {},
     "output_type": "execute_result"
    }
   ],
   "source": [
    "#Oppgave 1g\n",
    "sp.diff(x**3-x**2+1/4*x, x) #løser med hensyn på x"
   ]
  },
  {
   "cell_type": "code",
   "execution_count": 37,
   "id": "0590eec0-a83d-4027-a3e7-ff15ab3d09b0",
   "metadata": {},
   "outputs": [
    {
     "data": {
      "text/latex": [
       "$\\displaystyle 36 x^{5} - \\frac{1}{x^{2}}$"
      ],
      "text/plain": [
       "36*x**5 - 1/x**2"
      ]
     },
     "execution_count": 37,
     "metadata": {},
     "output_type": "execute_result"
    }
   ],
   "source": [
    "#Oppgave 2a\n",
    "sp.diff(1/x+6*x**6, x) #løser med hensyn på x"
   ]
  },
  {
   "cell_type": "code",
   "execution_count": 38,
   "id": "e2be5256-6f5d-46c6-9145-d0551108da89",
   "metadata": {},
   "outputs": [
    {
     "data": {
      "text/latex": [
       "$\\displaystyle 1.5 x^{2} - 1$"
      ],
      "text/plain": [
       "1.5*x**2 - 1"
      ]
     },
     "execution_count": 38,
     "metadata": {},
     "output_type": "execute_result"
    }
   ],
   "source": [
    "#Oppgave 2b\n",
    "sp.diff(-1*x+1/2*x**3, x) #løser med hensyn på x"
   ]
  },
  {
   "cell_type": "code",
   "execution_count": 41,
   "id": "1991c507-5836-41b2-b732-45e5da86a7e2",
   "metadata": {},
   "outputs": [
    {
     "data": {
      "text/latex": [
       "$\\displaystyle 3 x^{2} + 4 x - 3$"
      ],
      "text/plain": [
       "3*x**2 + 4*x - 3"
      ]
     },
     "execution_count": 41,
     "metadata": {},
     "output_type": "execute_result"
    }
   ],
   "source": [
    "#Oppgave 2c\n",
    "sp.diff(x**3+2*x**2-3*x, x) #løser med hensyn på x"
   ]
  },
  {
   "cell_type": "markdown",
   "id": "e17641d4-173e-4ec4-8861-a3530f873f6e",
   "metadata": {},
   "source": [
    "Læresteg 20: Derivasjon"
   ]
  },
  {
   "cell_type": "code",
   "execution_count": 42,
   "id": "6a6fa259-d9cc-4ba2-a991-0620824f8fae",
   "metadata": {},
   "outputs": [
    {
     "data": {
      "text/latex": [
       "$\\displaystyle 9 x^{8}$"
      ],
      "text/plain": [
       "9*x**8"
      ]
     },
     "execution_count": 42,
     "metadata": {},
     "output_type": "execute_result"
    }
   ],
   "source": [
    "#Oppgave 1e\n",
    "sp.diff((x**4)*(x**5), x) #løser med hensyn på x"
   ]
  },
  {
   "cell_type": "code",
   "execution_count": 43,
   "id": "329c16d2-3b15-4feb-a05a-8555ea6a3754",
   "metadata": {},
   "outputs": [
    {
     "data": {
      "text/latex": [
       "$\\displaystyle \\frac{3 \\sqrt{x}}{2}$"
      ],
      "text/plain": [
       "3*sqrt(x)/2"
      ]
     },
     "execution_count": 43,
     "metadata": {},
     "output_type": "execute_result"
    }
   ],
   "source": [
    "#Oppgave 1f\n",
    "sp.diff(x*sp.sqrt(x), x) #løser med hensyn på x"
   ]
  },
  {
   "cell_type": "code",
   "execution_count": 44,
   "id": "6748b69c-56a6-4a97-999d-9881bb258270",
   "metadata": {},
   "outputs": [
    {
     "data": {
      "text/latex": [
       "$\\displaystyle - \\frac{6}{x^{4}}$"
      ],
      "text/plain": [
       "-6/x**4"
      ]
     },
     "execution_count": 44,
     "metadata": {},
     "output_type": "execute_result"
    }
   ],
   "source": [
    "#Oppgave 1g\n",
    "sp.diff(2/(x**3), x) #løser med hensyn på x"
   ]
  },
  {
   "cell_type": "code",
   "execution_count": 46,
   "id": "c49f6e57-35a7-4d57-af18-74509883aa53",
   "metadata": {},
   "outputs": [
    {
     "data": {
      "text/latex": [
       "$\\displaystyle \\frac{2}{x^{2}} - \\frac{3 \\left(x^{2} - 2\\right)}{x^{4}}$"
      ],
      "text/plain": [
       "2/x**2 - 3*(x**2 - 2)/x**4"
      ]
     },
     "execution_count": 46,
     "metadata": {},
     "output_type": "execute_result"
    }
   ],
   "source": [
    "#Oppgave 1h\n",
    "sp.diff(((x**2)-2)/(x**3), x) #løser med hensyn på x"
   ]
  },
  {
   "cell_type": "code",
   "execution_count": 47,
   "id": "08120207-9d07-4c3c-a0bb-91d12bf2e0fe",
   "metadata": {},
   "outputs": [
    {
     "data": {
      "text/latex": [
       "$\\displaystyle \\frac{13 x^{\\frac{11}{2}}}{2}$"
      ],
      "text/plain": [
       "13*x**(11/2)/2"
      ]
     },
     "execution_count": 47,
     "metadata": {},
     "output_type": "execute_result"
    }
   ],
   "source": [
    "#Oppgave 1i\n",
    "sp.diff(sp.sqrt(x)*x**6, x) #løser med hensyn på x"
   ]
  },
  {
   "cell_type": "code",
   "execution_count": 48,
   "id": "6b75603d-9be6-4da9-b367-0015d9669945",
   "metadata": {},
   "outputs": [
    {
     "data": {
      "text/latex": [
       "$\\displaystyle 3 x^{2} + 1$"
      ],
      "text/plain": [
       "3*x**2 + 1"
      ]
     },
     "execution_count": 48,
     "metadata": {},
     "output_type": "execute_result"
    }
   ],
   "source": [
    "#Oppgave 1j\n",
    "sp.diff(x*((x**2)+1), x) #løser med hensyn på x"
   ]
  },
  {
   "cell_type": "code",
   "execution_count": 49,
   "id": "3c6d48e6-bdea-49e8-b65c-3e0dbde693de",
   "metadata": {},
   "outputs": [
    {
     "data": {
      "text/latex": [
       "$\\displaystyle - \\frac{3 x^{2} \\left(x^{2} + 4\\right)}{\\left(x^{3} - 1\\right)^{2}} + \\frac{2 x}{x^{3} - 1}$"
      ],
      "text/plain": [
       "-3*x**2*(x**2 + 4)/(x**3 - 1)**2 + 2*x/(x**3 - 1)"
      ]
     },
     "execution_count": 49,
     "metadata": {},
     "output_type": "execute_result"
    }
   ],
   "source": [
    "#Oppgave 1k\n",
    "sp.diff(((x**2)+4)/((x**3)-1), x) #løser med hensyn på x"
   ]
  },
  {
   "cell_type": "code",
   "execution_count": 52,
   "id": "b61de7a9-3ed5-4af3-bbc5-97f77ffa89e6",
   "metadata": {},
   "outputs": [
    {
     "data": {
      "text/latex": [
       "$\\displaystyle \\frac{x^{2} \\left(- 2 x - 2\\right)}{\\left(x^{2} + 2 x\\right)^{2}} + \\frac{2 x}{x^{2} + 2 x}$"
      ],
      "text/plain": [
       "x**2*(-2*x - 2)/(x**2 + 2*x)**2 + 2*x/(x**2 + 2*x)"
      ]
     },
     "execution_count": 52,
     "metadata": {},
     "output_type": "execute_result"
    }
   ],
   "source": [
    "#Oppgave 1l\n",
    "sp.diff((x**2)/((x**2)+2*x), x) #løser med hensyn på x"
   ]
  },
  {
   "cell_type": "code",
   "execution_count": 53,
   "id": "51050481-5119-46b5-a760-e4280b9e1c08",
   "metadata": {},
   "outputs": [
    {
     "data": {
      "text/latex": [
       "$\\displaystyle \\frac{2 x + 4}{x - 2} - \\frac{x^{2} + 4 x + 2}{\\left(x - 2\\right)^{2}}$"
      ],
      "text/plain": [
       "(2*x + 4)/(x - 2) - (x**2 + 4*x + 2)/(x - 2)**2"
      ]
     },
     "execution_count": 53,
     "metadata": {},
     "output_type": "execute_result"
    }
   ],
   "source": [
    "#Oppgave 1m\n",
    "sp.diff(((x**2)+4*x+2)/(x-2), x) #løser med hensyn på x"
   ]
  },
  {
   "cell_type": "code",
   "execution_count": 54,
   "id": "cca259b7-37b4-4a9e-b115-9564ecd2ab3f",
   "metadata": {},
   "outputs": [
    {
     "data": {
      "text/latex": [
       "$\\displaystyle - \\frac{2 x \\left(x^{3} - 2 x\\right)}{\\left(x^{2} - 1\\right)^{2}} + \\frac{3 x^{2} - 2}{x^{2} - 1}$"
      ],
      "text/plain": [
       "-2*x*(x**3 - 2*x)/(x**2 - 1)**2 + (3*x**2 - 2)/(x**2 - 1)"
      ]
     },
     "execution_count": 54,
     "metadata": {},
     "output_type": "execute_result"
    }
   ],
   "source": [
    "#Oppgave 2a\n",
    "sp.diff(((x**3)-2*x)/((x**2)-1), x) #løser med hensyn på x"
   ]
  },
  {
   "cell_type": "code",
   "execution_count": 55,
   "id": "eaf8cfdc-8fe0-438f-8488-a8286472ea27",
   "metadata": {},
   "outputs": [
    {
     "data": {
      "text/latex": [
       "$\\displaystyle 2 x \\left(x^{2} - 1\\right) + 2 x \\left(x^{2} + 1\\right)$"
      ],
      "text/plain": [
       "2*x*(x**2 - 1) + 2*x*(x**2 + 1)"
      ]
     },
     "execution_count": 55,
     "metadata": {},
     "output_type": "execute_result"
    }
   ],
   "source": [
    "#Oppgave 2b\n",
    "sp.diff((x**2+1)*(x**2-1), x) #løser med hensyn på x"
   ]
  },
  {
   "cell_type": "code",
   "execution_count": 57,
   "id": "28d5d550-7b8a-4f51-a8c6-da3854b7e7b5",
   "metadata": {},
   "outputs": [
    {
     "data": {
      "text/latex": [
       "$\\displaystyle - \\frac{3 x^{2} \\cdot \\left(3 x - 4\\right)}{\\left(x^{3} + 7\\right)^{2}} + \\frac{3}{x^{3} + 7}$"
      ],
      "text/plain": [
       "-3*x**2*(3*x - 4)/(x**3 + 7)**2 + 3/(x**3 + 7)"
      ]
     },
     "execution_count": 57,
     "metadata": {},
     "output_type": "execute_result"
    }
   ],
   "source": [
    "#Oppgave 2c\n",
    "sp.diff((3*x-4)/(x**3+7), x) #løser med hensyn på x"
   ]
  },
  {
   "cell_type": "markdown",
   "id": "63082bfe-d9f0-43aa-a7b1-7e9e1c15d9b7",
   "metadata": {},
   "source": [
    "Læresteg 21: Derivasjon"
   ]
  },
  {
   "cell_type": "code",
   "execution_count": 58,
   "id": "e8b29362-fe8c-4aeb-ba87-8e345772a3ce",
   "metadata": {},
   "outputs": [
    {
     "data": {
      "text/latex": [
       "$\\displaystyle \\left(15 x^{2} + 30\\right) \\left(x^{3} + 6 x\\right)^{4}$"
      ],
      "text/plain": [
       "(15*x**2 + 30)*(x**3 + 6*x)**4"
      ]
     },
     "execution_count": 58,
     "metadata": {},
     "output_type": "execute_result"
    }
   ],
   "source": [
    "#Oppgave 1a\n",
    "sp.diff((x**3+6*x)**5, x) #løser med hensyn på x"
   ]
  },
  {
   "cell_type": "code",
   "execution_count": 59,
   "id": "3b6ffd73-536a-4150-a8d8-8acf389dce98",
   "metadata": {},
   "outputs": [
    {
     "data": {
      "text/latex": [
       "$\\displaystyle \\frac{2 x}{\\sqrt{2 x^{2} + 5}}$"
      ],
      "text/plain": [
       "2*x/sqrt(2*x**2 + 5)"
      ]
     },
     "execution_count": 59,
     "metadata": {},
     "output_type": "execute_result"
    }
   ],
   "source": [
    "#Oppgave 1b\n",
    "sp.diff(sp.sqrt(2*x**2+5), x) #løser med hensyn på x"
   ]
  },
  {
   "cell_type": "code",
   "execution_count": 60,
   "id": "6d822607-8783-483e-acb2-444035216974",
   "metadata": {},
   "outputs": [
    {
     "data": {
      "text/latex": [
       "$\\displaystyle - \\frac{128 x^{5}}{\\left(x^{2} + 3\\right)^{5}} + \\frac{64 x^{3}}{\\left(x^{2} + 3\\right)^{4}}$"
      ],
      "text/plain": [
       "-128*x**5/(x**2 + 3)**5 + 64*x**3/(x**2 + 3)**4"
      ]
     },
     "execution_count": 60,
     "metadata": {},
     "output_type": "execute_result"
    }
   ],
   "source": [
    "#Oppgave 1c\n",
    "sp.diff(((2*x)/(x**2+3))**4, x) #løser med hensyn på x"
   ]
  },
  {
   "cell_type": "code",
   "execution_count": 61,
   "id": "fc3e0b92-30da-45b5-b4f7-b4ee07e83149",
   "metadata": {},
   "outputs": [
    {
     "data": {
      "text/latex": [
       "$\\displaystyle 12.0 x^{3} \\left(2 x^{4} + 9\\right)^{0.5}$"
      ],
      "text/plain": [
       "12.0*x**3*(2*x**4 + 9)**0.5"
      ]
     },
     "execution_count": 61,
     "metadata": {},
     "output_type": "execute_result"
    }
   ],
   "source": [
    "#Oppgave 1d\n",
    "sp.diff((2*x**4+9)**(3/2), x) #løser med hensyn på x"
   ]
  },
  {
   "cell_type": "code",
   "execution_count": 62,
   "id": "365ad3fa-750d-43ea-be79-8616340c241e",
   "metadata": {},
   "outputs": [
    {
     "data": {
      "text/latex": [
       "$\\displaystyle - \\frac{x}{\\left(x^{2} + 1\\right)^{\\frac{3}{2}}}$"
      ],
      "text/plain": [
       "-x/(x**2 + 1)**(3/2)"
      ]
     },
     "execution_count": 62,
     "metadata": {},
     "output_type": "execute_result"
    }
   ],
   "source": [
    "#Oppgave 1e\n",
    "sp.diff((1/sp.sqrt(1+x**2)), x) #løser med hensyn på x"
   ]
  },
  {
   "cell_type": "code",
   "execution_count": 64,
   "id": "57c31a00-8ade-4e1d-b51c-3b694973623e",
   "metadata": {},
   "outputs": [
    {
     "data": {
      "text/latex": [
       "$\\displaystyle x^{2} \\cdot \\left(6 x + 6\\right) \\left(x^{2} + 2 x\\right)^{2} + 2 x \\left(x^{2} + 2 x\\right)^{3}$"
      ],
      "text/plain": [
       "x**2*(6*x + 6)*(x**2 + 2*x)**2 + 2*x*(x**2 + 2*x)**3"
      ]
     },
     "execution_count": 64,
     "metadata": {},
     "output_type": "execute_result"
    }
   ],
   "source": [
    "#Oppgave 1f\n",
    "sp.diff((x**2)*((x**2+2*x)**3), x) #løser med hensyn på x"
   ]
  },
  {
   "cell_type": "code",
   "execution_count": 65,
   "id": "8ffc13d5-08ad-4ae8-8e93-4b674015faea",
   "metadata": {},
   "outputs": [
    {
     "data": {
      "text/latex": [
       "$\\displaystyle \\frac{x^{2} \\left(x - 1\\right)}{\\sqrt{x^{2} - 2 x}} + 2 x \\sqrt{x^{2} - 2 x}$"
      ],
      "text/plain": [
       "x**2*(x - 1)/sqrt(x**2 - 2*x) + 2*x*sqrt(x**2 - 2*x)"
      ]
     },
     "execution_count": 65,
     "metadata": {},
     "output_type": "execute_result"
    }
   ],
   "source": [
    "#Oppgave 1g\n",
    "sp.diff((x**2)*sp.sqrt(x**2-2*x), x) #løser med hensyn på x"
   ]
  },
  {
   "cell_type": "code",
   "execution_count": 66,
   "id": "13858379-1bb3-402b-9298-31fe6b7b45ad",
   "metadata": {},
   "outputs": [
    {
     "data": {
      "text/latex": [
       "$\\displaystyle \\frac{x^{2} \\left(- 6 x - 3\\right)}{\\left(x^{2} + x\\right)^{4}} + \\frac{2 x}{\\left(x^{2} + x\\right)^{3}}$"
      ],
      "text/plain": [
       "x**2*(-6*x - 3)/(x**2 + x)**4 + 2*x/(x**2 + x)**3"
      ]
     },
     "execution_count": 66,
     "metadata": {},
     "output_type": "execute_result"
    }
   ],
   "source": [
    "#Oppgave 1h\n",
    "sp.diff((x**2)/((x**2+x)**3), x) #løser med hensyn på x"
   ]
  },
  {
   "cell_type": "code",
   "execution_count": 68,
   "id": "8f28b7e4-b9b4-4f6f-bec0-e8fb4056717d",
   "metadata": {},
   "outputs": [
    {
     "data": {
      "text/latex": [
       "$\\displaystyle 9 x^{2} \\left(x^{2} + 1\\right)^{2} \\left(x^{3} + 1\\right)^{2} + 4 x \\left(x^{2} + 1\\right) \\left(x^{3} + 1\\right)^{3}$"
      ],
      "text/plain": [
       "9*x**2*(x**2 + 1)**2*(x**3 + 1)**2 + 4*x*(x**2 + 1)*(x**3 + 1)**3"
      ]
     },
     "execution_count": 68,
     "metadata": {},
     "output_type": "execute_result"
    }
   ],
   "source": [
    "#Oppgave 1i\n",
    "sp.diff(((x**2+1)**2)*((x**3+1)**3), x) #løser med hensyn på x"
   ]
  },
  {
   "cell_type": "code",
   "execution_count": 73,
   "id": "fcc70d1a-2300-4095-b282-6c4eb7148b77",
   "metadata": {},
   "outputs": [
    {
     "data": {
      "text/latex": [
       "$\\displaystyle \\frac{\\left(24 x + 8\\right) \\sqrt{\\left(3 x^{2} + 2 x\\right)^{4}}}{2 \\cdot \\left(3 x^{2} + 2 x\\right)}$"
      ],
      "text/plain": [
       "(24*x + 8)*sqrt((3*x**2 + 2*x)**4)/(2*(3*x**2 + 2*x))"
      ]
     },
     "execution_count": 73,
     "metadata": {},
     "output_type": "execute_result"
    }
   ],
   "source": [
    "#Oppgave 2a\n",
    "sp.diff(sp.sqrt((3*x**2+2*x)**4), x) #løser med hensyn på x"
   ]
  },
  {
   "cell_type": "code",
   "execution_count": 74,
   "id": "af83acd6-4b21-496c-8486-26ba790a5081",
   "metadata": {},
   "outputs": [
    {
     "data": {
      "text/latex": [
       "$\\displaystyle 15 x^{2} \\left(x^{2} + 3\\right)^{4} \\left(x^{3} + 3\\right)^{4} + 8 x \\left(x^{2} + 3\\right)^{3} \\left(x^{3} + 3\\right)^{5}$"
      ],
      "text/plain": [
       "15*x**2*(x**2 + 3)**4*(x**3 + 3)**4 + 8*x*(x**2 + 3)**3*(x**3 + 3)**5"
      ]
     },
     "execution_count": 74,
     "metadata": {},
     "output_type": "execute_result"
    }
   ],
   "source": [
    "#Oppgave 2b\n",
    "sp.diff(((x**3+3)**5)*((x**2+3)**4), x) #løser med hensyn på x"
   ]
  },
  {
   "cell_type": "code",
   "execution_count": 76,
   "id": "9d15de10-072a-4c8a-b89e-ef571427d8c4",
   "metadata": {},
   "outputs": [
    {
     "data": {
      "text/latex": [
       "$\\displaystyle \\frac{x^{3}}{\\sqrt{x^{2} + 1}} + 2 x \\sqrt{x^{2} + 1}$"
      ],
      "text/plain": [
       "x**3/sqrt(x**2 + 1) + 2*x*sqrt(x**2 + 1)"
      ]
     },
     "execution_count": 76,
     "metadata": {},
     "output_type": "execute_result"
    }
   ],
   "source": [
    "#Oppgave 2c\n",
    "sp.diff((sp.sqrt(x**2+1))*x**2, x) #løser med hensyn på x"
   ]
  },
  {
   "cell_type": "code",
   "execution_count": 77,
   "id": "65cc2516-bb86-48ba-93e0-1107a2e1e917",
   "metadata": {},
   "outputs": [
    {
     "data": {
      "text/latex": [
       "$\\displaystyle \\frac{\\left(18 x + 6\\right) \\left(3 x^{2} + 2 x\\right)^{2}}{x^{2}} - \\frac{2 \\left(3 x^{2} + 2 x\\right)^{3}}{x^{3}}$"
      ],
      "text/plain": [
       "(18*x + 6)*(3*x**2 + 2*x)**2/x**2 - 2*(3*x**2 + 2*x)**3/x**3"
      ]
     },
     "execution_count": 77,
     "metadata": {},
     "output_type": "execute_result"
    }
   ],
   "source": [
    "#Oppgave 2d\n",
    "sp.diff(((2*x+3*x**2)**3)/(x**2), x) #løser med hensyn på x"
   ]
  },
  {
   "cell_type": "code",
   "execution_count": 81,
   "id": "4a666c51-af7e-4e22-81b7-caf520dc4311",
   "metadata": {},
   "outputs": [
    {
     "data": {
      "text/latex": [
       "$\\displaystyle \\frac{4}{3 \\left(4 x - 5\\right)^{\\frac{2}{3}}}$"
      ],
      "text/plain": [
       "4/(3*(4*x - 5)**(2/3))"
      ]
     },
     "execution_count": 81,
     "metadata": {},
     "output_type": "execute_result"
    }
   ],
   "source": [
    "#Oppgave 2e\n",
    "sp.diff(nthroot(x*4-5, 3), x) #løser med hensyn på x"
   ]
  },
  {
   "cell_type": "code",
   "execution_count": 82,
   "id": "9092e2b9-e5dc-410c-8f03-569fd7fddaf0",
   "metadata": {},
   "outputs": [
    {
     "data": {
      "text/latex": [
       "$\\displaystyle - \\frac{2 x^{6}}{\\left(x^{4} - 1\\right)^{\\frac{3}{2}}} + \\frac{3 x^{2}}{\\sqrt{x^{4} - 1}}$"
      ],
      "text/plain": [
       "-2*x**6/(x**4 - 1)**(3/2) + 3*x**2/sqrt(x**4 - 1)"
      ]
     },
     "execution_count": 82,
     "metadata": {},
     "output_type": "execute_result"
    }
   ],
   "source": [
    "#Oppgave 2f\n",
    "sp.diff((x**3)/sp.sqrt(x**4-1), x) #løser med hensyn på x"
   ]
  },
  {
   "cell_type": "markdown",
   "id": "71d86f91-f503-45e5-a6e6-63eab6d94797",
   "metadata": {},
   "source": [
    "Læresteg 22: Derivasjon"
   ]
  },
  {
   "cell_type": "code",
   "execution_count": 83,
   "id": "d5ef73b0-9198-4365-98b2-3c649e1be12b",
   "metadata": {},
   "outputs": [
    {
     "data": {
      "text/latex": [
       "$\\displaystyle \\frac{1}{x}$"
      ],
      "text/plain": [
       "1/x"
      ]
     },
     "execution_count": 83,
     "metadata": {},
     "output_type": "execute_result"
    }
   ],
   "source": [
    "#Oppgave 1a\n",
    "sp.diff(sp.log(5*x), x) #løser med hensyn på x"
   ]
  },
  {
   "cell_type": "code",
   "execution_count": 84,
   "id": "cd97a57e-aff1-4136-87e0-3041245ecc3b",
   "metadata": {},
   "outputs": [
    {
     "data": {
      "text/latex": [
       "$\\displaystyle - 2 e^{- 2 x}$"
      ],
      "text/plain": [
       "-2*exp(-2*x)"
      ]
     },
     "execution_count": 84,
     "metadata": {},
     "output_type": "execute_result"
    }
   ],
   "source": [
    "#Oppgave 1b\n",
    "sp.diff(sp.exp(-2*x), x) #løser med hensyn på x"
   ]
  },
  {
   "cell_type": "code",
   "execution_count": 85,
   "id": "3626bc96-7f8a-4032-b78d-0457832799b6",
   "metadata": {},
   "outputs": [
    {
     "data": {
      "text/latex": [
       "$\\displaystyle \\frac{1}{x}$"
      ],
      "text/plain": [
       "1/x"
      ]
     },
     "execution_count": 85,
     "metadata": {},
     "output_type": "execute_result"
    }
   ],
   "source": [
    "#Oppgave 1c\n",
    "sp.diff(sp.log(12*x)-3, x) #løser med hensyn på x"
   ]
  },
  {
   "cell_type": "code",
   "execution_count": 86,
   "id": "3512507a-7a55-4b5b-9825-186787c86fd8",
   "metadata": {},
   "outputs": [
    {
     "data": {
      "text/latex": [
       "$\\displaystyle 2^{x} \\log{\\left(2 \\right)}$"
      ],
      "text/plain": [
       "2**x*log(2)"
      ]
     },
     "execution_count": 86,
     "metadata": {},
     "output_type": "execute_result"
    }
   ],
   "source": [
    "#Oppgave 1d\n",
    "sp.diff(2**x, x) #løser med hensyn på x"
   ]
  },
  {
   "cell_type": "code",
   "execution_count": 87,
   "id": "40bdecd0-62b1-471d-9e94-c3393a5c582a",
   "metadata": {},
   "outputs": [
    {
     "data": {
      "text/latex": [
       "$\\displaystyle 3 e^{3 x + 5}$"
      ],
      "text/plain": [
       "3*exp(3*x + 5)"
      ]
     },
     "execution_count": 87,
     "metadata": {},
     "output_type": "execute_result"
    }
   ],
   "source": [
    "#Oppgave 1e\n",
    "sp.diff(sp.exp(3*x+5), x) #løser med hensyn på x"
   ]
  },
  {
   "cell_type": "code",
   "execution_count": 88,
   "id": "42502130-8ba8-46c2-831b-4434347415ab",
   "metadata": {},
   "outputs": [
    {
     "data": {
      "text/latex": [
       "$\\displaystyle \\frac{5 x^{4}}{x^{5} + 1}$"
      ],
      "text/plain": [
       "5*x**4/(x**5 + 1)"
      ]
     },
     "execution_count": 88,
     "metadata": {},
     "output_type": "execute_result"
    }
   ],
   "source": [
    "#Oppgave 1f\n",
    "sp.diff(sp.log(x**5+1), x) #løser med hensyn på x"
   ]
  },
  {
   "cell_type": "code",
   "execution_count": 89,
   "id": "11921696-0d3c-4c1a-aed1-6674c0ecc9bf",
   "metadata": {},
   "outputs": [
    {
     "data": {
      "text/latex": [
       "$\\displaystyle \\left(8 x + 8\\right) e^{4 x^{2} + 8 x}$"
      ],
      "text/plain": [
       "(8*x + 8)*exp(4*x**2 + 8*x)"
      ]
     },
     "execution_count": 89,
     "metadata": {},
     "output_type": "execute_result"
    }
   ],
   "source": [
    "#Oppgave 1g\n",
    "sp.diff(sp.exp(4*x**2+8*x), x) #løser med hensyn på x"
   ]
  },
  {
   "cell_type": "code",
   "execution_count": 90,
   "id": "e0ae5975-823f-4318-a177-0a99b3b5f580",
   "metadata": {},
   "outputs": [
    {
     "data": {
      "text/latex": [
       "$\\displaystyle - \\frac{1}{x}$"
      ],
      "text/plain": [
       "-1/x"
      ]
     },
     "execution_count": 90,
     "metadata": {},
     "output_type": "execute_result"
    }
   ],
   "source": [
    "#Oppgave 1h\n",
    "sp.diff(sp.log(1/x), x) #løser med hensyn på x"
   ]
  },
  {
   "cell_type": "code",
   "execution_count": 91,
   "id": "ee435951-4416-40f4-9d19-1163f1e8b1d2",
   "metadata": {},
   "outputs": [
    {
     "data": {
      "text/latex": [
       "$\\displaystyle 12 e^{4 x} + \\frac{6}{x}$"
      ],
      "text/plain": [
       "12*exp(4*x) + 6/x"
      ]
     },
     "execution_count": 91,
     "metadata": {},
     "output_type": "execute_result"
    }
   ],
   "source": [
    "#Oppgave 1i\n",
    "sp.diff(6*sp.log(x)+3*sp.exp(4*x), x) #løser med hensyn på x"
   ]
  },
  {
   "cell_type": "code",
   "execution_count": 92,
   "id": "e05ff407-1358-4b9a-a6ea-6356c5cbd79b",
   "metadata": {},
   "outputs": [
    {
     "data": {
      "text/latex": [
       "$\\displaystyle - x e^{- x} + e^{- x}$"
      ],
      "text/plain": [
       "-x*exp(-x) + exp(-x)"
      ]
     },
     "execution_count": 92,
     "metadata": {},
     "output_type": "execute_result"
    }
   ],
   "source": [
    "#Oppgave 1j\n",
    "sp.diff(x*sp.exp(-x), x) #løser med hensyn på x"
   ]
  },
  {
   "cell_type": "code",
   "execution_count": 93,
   "id": "6e0acc4a-20b8-495e-ab08-8c6e826066fe",
   "metadata": {},
   "outputs": [
    {
     "data": {
      "text/latex": [
       "$\\displaystyle \\frac{2 x^{3}}{x^{2} + 2} + 2 x \\log{\\left(x^{2} + 2 \\right)}$"
      ],
      "text/plain": [
       "2*x**3/(x**2 + 2) + 2*x*log(x**2 + 2)"
      ]
     },
     "execution_count": 93,
     "metadata": {},
     "output_type": "execute_result"
    }
   ],
   "source": [
    "#Oppgave 1k\n",
    "sp.diff(x**2*sp.log(x**2+2), x) #løser med hensyn på x"
   ]
  },
  {
   "cell_type": "code",
   "execution_count": 94,
   "id": "9338c25b-c739-4105-aea7-38941d352b01",
   "metadata": {},
   "outputs": [
    {
     "data": {
      "text/latex": [
       "$\\displaystyle 2 x^{3} e^{2 x} + 3 x^{2} e^{2 x}$"
      ],
      "text/plain": [
       "2*x**3*exp(2*x) + 3*x**2*exp(2*x)"
      ]
     },
     "execution_count": 94,
     "metadata": {},
     "output_type": "execute_result"
    }
   ],
   "source": [
    "#Oppgave 2a\n",
    "sp.diff(x**3*sp.exp(2*x), x) #løser med hensyn på x"
   ]
  },
  {
   "cell_type": "code",
   "execution_count": 95,
   "id": "4ec4e83e-251a-4396-aaea-0273fc997b5a",
   "metadata": {},
   "outputs": [
    {
     "data": {
      "text/latex": [
       "$\\displaystyle \\frac{\\left(x^{2} + 1\\right) \\left(- \\frac{2 x \\left(x^{2} - 1\\right)}{\\left(x^{2} + 1\\right)^{2}} + \\frac{2 x}{x^{2} + 1}\\right)}{x^{2} - 1}$"
      ],
      "text/plain": [
       "(x**2 + 1)*(-2*x*(x**2 - 1)/(x**2 + 1)**2 + 2*x/(x**2 + 1))/(x**2 - 1)"
      ]
     },
     "execution_count": 95,
     "metadata": {},
     "output_type": "execute_result"
    }
   ],
   "source": [
    "#Oppgave 2b\n",
    "sp.diff(sp.log((x**2-1)/(x**2+1)), x) #løser med hensyn på x"
   ]
  },
  {
   "cell_type": "code",
   "execution_count": 96,
   "id": "013e85f6-2ca2-4dba-9d45-062f0bac701a",
   "metadata": {},
   "outputs": [
    {
     "data": {
      "text/latex": [
       "$\\displaystyle \\frac{2 x^{3}}{x^{2} + 2} + 2 x \\log{\\left(x^{2} + 2 \\right)}$"
      ],
      "text/plain": [
       "2*x**3/(x**2 + 2) + 2*x*log(x**2 + 2)"
      ]
     },
     "execution_count": 96,
     "metadata": {},
     "output_type": "execute_result"
    }
   ],
   "source": [
    "#Oppgave 2c\n",
    "sp.diff(x**2*sp.log(x**2+2), x) #løser med hensyn på x"
   ]
  },
  {
   "cell_type": "code",
   "execution_count": 97,
   "id": "2c41065e-03b8-42ea-8f64-52838347b6a7",
   "metadata": {},
   "outputs": [
    {
     "data": {
      "text/latex": [
       "$\\displaystyle - \\frac{2 x e^{- x}}{\\left(x^{2} + 1\\right)^{2}} - \\frac{e^{- x}}{x^{2} + 1}$"
      ],
      "text/plain": [
       "-2*x*exp(-x)/(x**2 + 1)**2 - exp(-x)/(x**2 + 1)"
      ]
     },
     "execution_count": 97,
     "metadata": {},
     "output_type": "execute_result"
    }
   ],
   "source": [
    "#Oppgave 2d\n",
    "sp.diff(sp.exp(-x)/(x**2+1), x) #løser med hensyn på x"
   ]
  }
 ],
 "metadata": {
  "kernelspec": {
   "display_name": "Python 3 (ipykernel)",
   "language": "python",
   "name": "python3"
  },
  "language_info": {
   "codemirror_mode": {
    "name": "ipython",
    "version": 3
   },
   "file_extension": ".py",
   "mimetype": "text/x-python",
   "name": "python",
   "nbconvert_exporter": "python",
   "pygments_lexer": "ipython3",
   "version": "3.9.13"
  }
 },
 "nbformat": 4,
 "nbformat_minor": 5
}
